{
 "cells": [
  {
   "cell_type": "code",
   "execution_count": 1,
   "metadata": {},
   "outputs": [],
   "source": [
    "import numpy as np\n",
    "import pandas as pd\n",
    "import os\n",
    "import string"
   ]
  },
  {
   "cell_type": "code",
   "execution_count": 2,
   "metadata": {},
   "outputs": [],
   "source": [
    "dataset = pd.read_csv(\"plant_village.csv\")"
   ]
  },
  {
   "cell_type": "code",
   "execution_count": 3,
   "metadata": {},
   "outputs": [
    {
     "data": {
      "text/html": [
       "<div>\n",
       "<style scoped>\n",
       "    .dataframe tbody tr th:only-of-type {\n",
       "        vertical-align: middle;\n",
       "    }\n",
       "\n",
       "    .dataframe tbody tr th {\n",
       "        vertical-align: top;\n",
       "    }\n",
       "\n",
       "    .dataframe thead th {\n",
       "        text-align: right;\n",
       "    }\n",
       "</style>\n",
       "<table border=\"1\" class=\"dataframe\">\n",
       "  <thead>\n",
       "    <tr style=\"text-align: right;\">\n",
       "      <th></th>\n",
       "      <th>Unnamed: 0</th>\n",
       "      <th>mean_r</th>\n",
       "      <th>mean_g</th>\n",
       "      <th>mean_b</th>\n",
       "      <th>stddev_r</th>\n",
       "      <th>stddev_g</th>\n",
       "      <th>stddev_b</th>\n",
       "      <th>contrast</th>\n",
       "      <th>correlation</th>\n",
       "      <th>inverse_difference_moments</th>\n",
       "      <th>entropy</th>\n",
       "    </tr>\n",
       "  </thead>\n",
       "  <tbody>\n",
       "    <tr>\n",
       "      <th>0</th>\n",
       "      <td>0</td>\n",
       "      <td>124.451584</td>\n",
       "      <td>125.620300</td>\n",
       "      <td>108.485748</td>\n",
       "      <td>50.388144</td>\n",
       "      <td>41.485965</td>\n",
       "      <td>53.374898</td>\n",
       "      <td>544.214069</td>\n",
       "      <td>0.862938</td>\n",
       "      <td>0.097321</td>\n",
       "      <td>13.205401</td>\n",
       "    </tr>\n",
       "    <tr>\n",
       "      <th>1</th>\n",
       "      <td>0</td>\n",
       "      <td>99.800812</td>\n",
       "      <td>106.241577</td>\n",
       "      <td>95.636383</td>\n",
       "      <td>53.178032</td>\n",
       "      <td>46.293921</td>\n",
       "      <td>56.707237</td>\n",
       "      <td>1024.899346</td>\n",
       "      <td>0.780989</td>\n",
       "      <td>0.100739</td>\n",
       "      <td>13.721206</td>\n",
       "    </tr>\n",
       "    <tr>\n",
       "      <th>2</th>\n",
       "      <td>0</td>\n",
       "      <td>128.854691</td>\n",
       "      <td>133.116470</td>\n",
       "      <td>125.494598</td>\n",
       "      <td>51.777342</td>\n",
       "      <td>43.455868</td>\n",
       "      <td>56.003065</td>\n",
       "      <td>668.621700</td>\n",
       "      <td>0.846056</td>\n",
       "      <td>0.098733</td>\n",
       "      <td>13.512516</td>\n",
       "    </tr>\n",
       "    <tr>\n",
       "      <th>3</th>\n",
       "      <td>0</td>\n",
       "      <td>118.155594</td>\n",
       "      <td>129.549210</td>\n",
       "      <td>96.848831</td>\n",
       "      <td>51.552275</td>\n",
       "      <td>47.672393</td>\n",
       "      <td>56.637736</td>\n",
       "      <td>1826.944441</td>\n",
       "      <td>0.590644</td>\n",
       "      <td>0.039873</td>\n",
       "      <td>14.459833</td>\n",
       "    </tr>\n",
       "    <tr>\n",
       "      <th>4</th>\n",
       "      <td>0</td>\n",
       "      <td>94.497757</td>\n",
       "      <td>103.165131</td>\n",
       "      <td>79.188477</td>\n",
       "      <td>58.576800</td>\n",
       "      <td>51.213358</td>\n",
       "      <td>59.374794</td>\n",
       "      <td>792.271595</td>\n",
       "      <td>0.860727</td>\n",
       "      <td>0.114316</td>\n",
       "      <td>13.517625</td>\n",
       "    </tr>\n",
       "    <tr>\n",
       "      <th>5</th>\n",
       "      <td>0</td>\n",
       "      <td>110.709595</td>\n",
       "      <td>120.171036</td>\n",
       "      <td>93.429062</td>\n",
       "      <td>47.789392</td>\n",
       "      <td>30.175715</td>\n",
       "      <td>48.727497</td>\n",
       "      <td>359.498229</td>\n",
       "      <td>0.866027</td>\n",
       "      <td>0.090358</td>\n",
       "      <td>12.816389</td>\n",
       "    </tr>\n",
       "    <tr>\n",
       "      <th>6</th>\n",
       "      <td>0</td>\n",
       "      <td>104.086609</td>\n",
       "      <td>111.648010</td>\n",
       "      <td>90.517944</td>\n",
       "      <td>58.891686</td>\n",
       "      <td>56.248688</td>\n",
       "      <td>58.665713</td>\n",
       "      <td>728.959001</td>\n",
       "      <td>0.885723</td>\n",
       "      <td>0.154391</td>\n",
       "      <td>13.090009</td>\n",
       "    </tr>\n",
       "    <tr>\n",
       "      <th>7</th>\n",
       "      <td>0</td>\n",
       "      <td>135.240723</td>\n",
       "      <td>131.895370</td>\n",
       "      <td>94.359283</td>\n",
       "      <td>44.033809</td>\n",
       "      <td>37.311923</td>\n",
       "      <td>53.750357</td>\n",
       "      <td>467.791379</td>\n",
       "      <td>0.847512</td>\n",
       "      <td>0.115724</td>\n",
       "      <td>12.797442</td>\n",
       "    </tr>\n",
       "    <tr>\n",
       "      <th>8</th>\n",
       "      <td>0</td>\n",
       "      <td>101.134720</td>\n",
       "      <td>108.501678</td>\n",
       "      <td>88.009781</td>\n",
       "      <td>59.171141</td>\n",
       "      <td>50.670311</td>\n",
       "      <td>61.012097</td>\n",
       "      <td>783.534399</td>\n",
       "      <td>0.863051</td>\n",
       "      <td>0.104254</td>\n",
       "      <td>13.554903</td>\n",
       "    </tr>\n",
       "    <tr>\n",
       "      <th>9</th>\n",
       "      <td>0</td>\n",
       "      <td>115.889175</td>\n",
       "      <td>124.028458</td>\n",
       "      <td>105.472321</td>\n",
       "      <td>61.010069</td>\n",
       "      <td>46.588491</td>\n",
       "      <td>62.228476</td>\n",
       "      <td>612.859330</td>\n",
       "      <td>0.886738</td>\n",
       "      <td>0.097306</td>\n",
       "      <td>13.290813</td>\n",
       "    </tr>\n",
       "    <tr>\n",
       "      <th>10</th>\n",
       "      <td>0</td>\n",
       "      <td>147.559372</td>\n",
       "      <td>155.865723</td>\n",
       "      <td>133.580460</td>\n",
       "      <td>53.430600</td>\n",
       "      <td>36.244772</td>\n",
       "      <td>55.232799</td>\n",
       "      <td>536.457131</td>\n",
       "      <td>0.854064</td>\n",
       "      <td>0.073798</td>\n",
       "      <td>13.187859</td>\n",
       "    </tr>\n",
       "    <tr>\n",
       "      <th>11</th>\n",
       "      <td>0</td>\n",
       "      <td>112.725250</td>\n",
       "      <td>111.658569</td>\n",
       "      <td>88.138382</td>\n",
       "      <td>57.864767</td>\n",
       "      <td>46.829607</td>\n",
       "      <td>52.593662</td>\n",
       "      <td>840.815166</td>\n",
       "      <td>0.832955</td>\n",
       "      <td>0.074135</td>\n",
       "      <td>13.833883</td>\n",
       "    </tr>\n",
       "    <tr>\n",
       "      <th>12</th>\n",
       "      <td>0</td>\n",
       "      <td>118.543518</td>\n",
       "      <td>120.566757</td>\n",
       "      <td>102.514618</td>\n",
       "      <td>53.821701</td>\n",
       "      <td>43.525105</td>\n",
       "      <td>54.416560</td>\n",
       "      <td>417.077719</td>\n",
       "      <td>0.905742</td>\n",
       "      <td>0.123465</td>\n",
       "      <td>12.861741</td>\n",
       "    </tr>\n",
       "    <tr>\n",
       "      <th>13</th>\n",
       "      <td>0</td>\n",
       "      <td>131.529617</td>\n",
       "      <td>135.393906</td>\n",
       "      <td>95.408127</td>\n",
       "      <td>43.880363</td>\n",
       "      <td>37.311436</td>\n",
       "      <td>54.213508</td>\n",
       "      <td>404.504964</td>\n",
       "      <td>0.866682</td>\n",
       "      <td>0.119212</td>\n",
       "      <td>12.784327</td>\n",
       "    </tr>\n",
       "    <tr>\n",
       "      <th>14</th>\n",
       "      <td>0</td>\n",
       "      <td>134.426193</td>\n",
       "      <td>138.307007</td>\n",
       "      <td>100.986710</td>\n",
       "      <td>38.974747</td>\n",
       "      <td>36.228678</td>\n",
       "      <td>64.173187</td>\n",
       "      <td>112.740211</td>\n",
       "      <td>0.958215</td>\n",
       "      <td>0.305494</td>\n",
       "      <td>11.129659</td>\n",
       "    </tr>\n",
       "    <tr>\n",
       "      <th>15</th>\n",
       "      <td>0</td>\n",
       "      <td>100.085342</td>\n",
       "      <td>99.324814</td>\n",
       "      <td>75.211395</td>\n",
       "      <td>63.735467</td>\n",
       "      <td>58.374294</td>\n",
       "      <td>59.809017</td>\n",
       "      <td>807.605897</td>\n",
       "      <td>0.885359</td>\n",
       "      <td>0.131795</td>\n",
       "      <td>13.398646</td>\n",
       "    </tr>\n",
       "    <tr>\n",
       "      <th>16</th>\n",
       "      <td>0</td>\n",
       "      <td>125.873962</td>\n",
       "      <td>137.114105</td>\n",
       "      <td>114.387222</td>\n",
       "      <td>44.660921</td>\n",
       "      <td>41.081717</td>\n",
       "      <td>46.313852</td>\n",
       "      <td>805.195682</td>\n",
       "      <td>0.748903</td>\n",
       "      <td>0.064758</td>\n",
       "      <td>13.603044</td>\n",
       "    </tr>\n",
       "    <tr>\n",
       "      <th>17</th>\n",
       "      <td>0</td>\n",
       "      <td>122.173950</td>\n",
       "      <td>130.118546</td>\n",
       "      <td>104.384644</td>\n",
       "      <td>50.938494</td>\n",
       "      <td>42.958840</td>\n",
       "      <td>66.764345</td>\n",
       "      <td>540.259646</td>\n",
       "      <td>0.870574</td>\n",
       "      <td>0.129885</td>\n",
       "      <td>13.244241</td>\n",
       "    </tr>\n",
       "    <tr>\n",
       "      <th>18</th>\n",
       "      <td>0</td>\n",
       "      <td>106.584427</td>\n",
       "      <td>114.636734</td>\n",
       "      <td>93.545181</td>\n",
       "      <td>56.720479</td>\n",
       "      <td>50.171987</td>\n",
       "      <td>60.100497</td>\n",
       "      <td>714.829395</td>\n",
       "      <td>0.869940</td>\n",
       "      <td>0.097192</td>\n",
       "      <td>13.688498</td>\n",
       "    </tr>\n",
       "    <tr>\n",
       "      <th>19</th>\n",
       "      <td>0</td>\n",
       "      <td>132.006638</td>\n",
       "      <td>126.564377</td>\n",
       "      <td>105.034592</td>\n",
       "      <td>59.795148</td>\n",
       "      <td>51.406370</td>\n",
       "      <td>58.358060</td>\n",
       "      <td>721.503055</td>\n",
       "      <td>0.877042</td>\n",
       "      <td>0.078398</td>\n",
       "      <td>13.623248</td>\n",
       "    </tr>\n",
       "    <tr>\n",
       "      <th>20</th>\n",
       "      <td>0</td>\n",
       "      <td>112.691971</td>\n",
       "      <td>118.842407</td>\n",
       "      <td>110.944382</td>\n",
       "      <td>49.435703</td>\n",
       "      <td>42.776874</td>\n",
       "      <td>60.904839</td>\n",
       "      <td>395.260383</td>\n",
       "      <td>0.903930</td>\n",
       "      <td>0.198858</td>\n",
       "      <td>12.426506</td>\n",
       "    </tr>\n",
       "    <tr>\n",
       "      <th>21</th>\n",
       "      <td>0</td>\n",
       "      <td>101.081497</td>\n",
       "      <td>106.779800</td>\n",
       "      <td>85.806305</td>\n",
       "      <td>57.734974</td>\n",
       "      <td>55.344931</td>\n",
       "      <td>57.673552</td>\n",
       "      <td>881.404609</td>\n",
       "      <td>0.856220</td>\n",
       "      <td>0.142028</td>\n",
       "      <td>13.285714</td>\n",
       "    </tr>\n",
       "    <tr>\n",
       "      <th>22</th>\n",
       "      <td>0</td>\n",
       "      <td>108.028366</td>\n",
       "      <td>107.008774</td>\n",
       "      <td>82.302109</td>\n",
       "      <td>61.306011</td>\n",
       "      <td>53.745461</td>\n",
       "      <td>57.201163</td>\n",
       "      <td>754.888419</td>\n",
       "      <td>0.878148</td>\n",
       "      <td>0.121477</td>\n",
       "      <td>13.466401</td>\n",
       "    </tr>\n",
       "    <tr>\n",
       "      <th>23</th>\n",
       "      <td>0</td>\n",
       "      <td>111.466644</td>\n",
       "      <td>109.306152</td>\n",
       "      <td>80.060287</td>\n",
       "      <td>61.119749</td>\n",
       "      <td>52.899950</td>\n",
       "      <td>58.781153</td>\n",
       "      <td>792.005288</td>\n",
       "      <td>0.870287</td>\n",
       "      <td>0.092435</td>\n",
       "      <td>13.660273</td>\n",
       "    </tr>\n",
       "    <tr>\n",
       "      <th>24</th>\n",
       "      <td>0</td>\n",
       "      <td>149.647675</td>\n",
       "      <td>152.457428</td>\n",
       "      <td>105.463821</td>\n",
       "      <td>41.814630</td>\n",
       "      <td>28.104465</td>\n",
       "      <td>65.528865</td>\n",
       "      <td>450.378502</td>\n",
       "      <td>0.810672</td>\n",
       "      <td>0.091123</td>\n",
       "      <td>12.898652</td>\n",
       "    </tr>\n",
       "    <tr>\n",
       "      <th>25</th>\n",
       "      <td>0</td>\n",
       "      <td>111.502502</td>\n",
       "      <td>114.450119</td>\n",
       "      <td>90.802765</td>\n",
       "      <td>58.481047</td>\n",
       "      <td>46.553614</td>\n",
       "      <td>56.218376</td>\n",
       "      <td>803.550891</td>\n",
       "      <td>0.842861</td>\n",
       "      <td>0.079989</td>\n",
       "      <td>13.711478</td>\n",
       "    </tr>\n",
       "    <tr>\n",
       "      <th>26</th>\n",
       "      <td>0</td>\n",
       "      <td>112.460480</td>\n",
       "      <td>105.512375</td>\n",
       "      <td>81.785736</td>\n",
       "      <td>61.187051</td>\n",
       "      <td>54.876784</td>\n",
       "      <td>56.324822</td>\n",
       "      <td>798.283362</td>\n",
       "      <td>0.873786</td>\n",
       "      <td>0.099801</td>\n",
       "      <td>13.609713</td>\n",
       "    </tr>\n",
       "    <tr>\n",
       "      <th>27</th>\n",
       "      <td>0</td>\n",
       "      <td>109.264954</td>\n",
       "      <td>110.884979</td>\n",
       "      <td>84.727859</td>\n",
       "      <td>56.331608</td>\n",
       "      <td>47.725776</td>\n",
       "      <td>52.595013</td>\n",
       "      <td>876.023388</td>\n",
       "      <td>0.825234</td>\n",
       "      <td>0.086611</td>\n",
       "      <td>13.759354</td>\n",
       "    </tr>\n",
       "    <tr>\n",
       "      <th>28</th>\n",
       "      <td>0</td>\n",
       "      <td>118.565079</td>\n",
       "      <td>123.240387</td>\n",
       "      <td>109.720871</td>\n",
       "      <td>54.999136</td>\n",
       "      <td>44.846738</td>\n",
       "      <td>58.237258</td>\n",
       "      <td>812.544361</td>\n",
       "      <td>0.829799</td>\n",
       "      <td>0.063868</td>\n",
       "      <td>13.860407</td>\n",
       "    </tr>\n",
       "    <tr>\n",
       "      <th>29</th>\n",
       "      <td>0</td>\n",
       "      <td>133.479996</td>\n",
       "      <td>140.212311</td>\n",
       "      <td>96.851181</td>\n",
       "      <td>51.807307</td>\n",
       "      <td>50.769087</td>\n",
       "      <td>61.246194</td>\n",
       "      <td>414.017045</td>\n",
       "      <td>0.914965</td>\n",
       "      <td>0.139193</td>\n",
       "      <td>12.813142</td>\n",
       "    </tr>\n",
       "  </tbody>\n",
       "</table>\n",
       "</div>"
      ],
      "text/plain": [
       "    Unnamed: 0      mean_r      mean_g      mean_b   stddev_r   stddev_g  \\\n",
       "0            0  124.451584  125.620300  108.485748  50.388144  41.485965   \n",
       "1            0   99.800812  106.241577   95.636383  53.178032  46.293921   \n",
       "2            0  128.854691  133.116470  125.494598  51.777342  43.455868   \n",
       "3            0  118.155594  129.549210   96.848831  51.552275  47.672393   \n",
       "4            0   94.497757  103.165131   79.188477  58.576800  51.213358   \n",
       "5            0  110.709595  120.171036   93.429062  47.789392  30.175715   \n",
       "6            0  104.086609  111.648010   90.517944  58.891686  56.248688   \n",
       "7            0  135.240723  131.895370   94.359283  44.033809  37.311923   \n",
       "8            0  101.134720  108.501678   88.009781  59.171141  50.670311   \n",
       "9            0  115.889175  124.028458  105.472321  61.010069  46.588491   \n",
       "10           0  147.559372  155.865723  133.580460  53.430600  36.244772   \n",
       "11           0  112.725250  111.658569   88.138382  57.864767  46.829607   \n",
       "12           0  118.543518  120.566757  102.514618  53.821701  43.525105   \n",
       "13           0  131.529617  135.393906   95.408127  43.880363  37.311436   \n",
       "14           0  134.426193  138.307007  100.986710  38.974747  36.228678   \n",
       "15           0  100.085342   99.324814   75.211395  63.735467  58.374294   \n",
       "16           0  125.873962  137.114105  114.387222  44.660921  41.081717   \n",
       "17           0  122.173950  130.118546  104.384644  50.938494  42.958840   \n",
       "18           0  106.584427  114.636734   93.545181  56.720479  50.171987   \n",
       "19           0  132.006638  126.564377  105.034592  59.795148  51.406370   \n",
       "20           0  112.691971  118.842407  110.944382  49.435703  42.776874   \n",
       "21           0  101.081497  106.779800   85.806305  57.734974  55.344931   \n",
       "22           0  108.028366  107.008774   82.302109  61.306011  53.745461   \n",
       "23           0  111.466644  109.306152   80.060287  61.119749  52.899950   \n",
       "24           0  149.647675  152.457428  105.463821  41.814630  28.104465   \n",
       "25           0  111.502502  114.450119   90.802765  58.481047  46.553614   \n",
       "26           0  112.460480  105.512375   81.785736  61.187051  54.876784   \n",
       "27           0  109.264954  110.884979   84.727859  56.331608  47.725776   \n",
       "28           0  118.565079  123.240387  109.720871  54.999136  44.846738   \n",
       "29           0  133.479996  140.212311   96.851181  51.807307  50.769087   \n",
       "\n",
       "     stddev_b     contrast  correlation  inverse_difference_moments    entropy  \n",
       "0   53.374898   544.214069     0.862938                    0.097321  13.205401  \n",
       "1   56.707237  1024.899346     0.780989                    0.100739  13.721206  \n",
       "2   56.003065   668.621700     0.846056                    0.098733  13.512516  \n",
       "3   56.637736  1826.944441     0.590644                    0.039873  14.459833  \n",
       "4   59.374794   792.271595     0.860727                    0.114316  13.517625  \n",
       "5   48.727497   359.498229     0.866027                    0.090358  12.816389  \n",
       "6   58.665713   728.959001     0.885723                    0.154391  13.090009  \n",
       "7   53.750357   467.791379     0.847512                    0.115724  12.797442  \n",
       "8   61.012097   783.534399     0.863051                    0.104254  13.554903  \n",
       "9   62.228476   612.859330     0.886738                    0.097306  13.290813  \n",
       "10  55.232799   536.457131     0.854064                    0.073798  13.187859  \n",
       "11  52.593662   840.815166     0.832955                    0.074135  13.833883  \n",
       "12  54.416560   417.077719     0.905742                    0.123465  12.861741  \n",
       "13  54.213508   404.504964     0.866682                    0.119212  12.784327  \n",
       "14  64.173187   112.740211     0.958215                    0.305494  11.129659  \n",
       "15  59.809017   807.605897     0.885359                    0.131795  13.398646  \n",
       "16  46.313852   805.195682     0.748903                    0.064758  13.603044  \n",
       "17  66.764345   540.259646     0.870574                    0.129885  13.244241  \n",
       "18  60.100497   714.829395     0.869940                    0.097192  13.688498  \n",
       "19  58.358060   721.503055     0.877042                    0.078398  13.623248  \n",
       "20  60.904839   395.260383     0.903930                    0.198858  12.426506  \n",
       "21  57.673552   881.404609     0.856220                    0.142028  13.285714  \n",
       "22  57.201163   754.888419     0.878148                    0.121477  13.466401  \n",
       "23  58.781153   792.005288     0.870287                    0.092435  13.660273  \n",
       "24  65.528865   450.378502     0.810672                    0.091123  12.898652  \n",
       "25  56.218376   803.550891     0.842861                    0.079989  13.711478  \n",
       "26  56.324822   798.283362     0.873786                    0.099801  13.609713  \n",
       "27  52.595013   876.023388     0.825234                    0.086611  13.759354  \n",
       "28  58.237258   812.544361     0.829799                    0.063868  13.860407  \n",
       "29  61.246194   414.017045     0.914965                    0.139193  12.813142  "
      ]
     },
     "execution_count": 3,
     "metadata": {},
     "output_type": "execute_result"
    }
   ],
   "source": [
    "dataset.head(30)"
   ]
  },
  {
   "cell_type": "code",
   "execution_count": 4,
   "metadata": {},
   "outputs": [
    {
     "data": {
      "text/plain": [
       "pandas.core.frame.DataFrame"
      ]
     },
     "execution_count": 4,
     "metadata": {},
     "output_type": "execute_result"
    }
   ],
   "source": [
    "type(dataset)"
   ]
  },
  {
   "cell_type": "code",
   "execution_count": 9,
   "metadata": {},
   "outputs": [
    {
     "ename": "FileNotFoundError",
     "evalue": "[WinError 3] The system cannot find the path specified: 'C:\\\\Users\\\\Acer\\\\Desktop\\\\Leaf-Disease-Detection-Using-Image-Processing-main\\\\Leaf-Disease-Detection-Using-Image-Processing-main\\\\crowdai'",
     "output_type": "error",
     "traceback": [
      "\u001b[1;31m---------------------------------------------------------------------------\u001b[0m",
      "\u001b[1;31mFileNotFoundError\u001b[0m                         Traceback (most recent call last)",
      "\u001b[1;32m~\\AppData\\Local\\Temp/ipykernel_14896/4174867929.py\u001b[0m in \u001b[0;36m<module>\u001b[1;34m\u001b[0m\n\u001b[0;32m      1\u001b[0m \u001b[0mmaindir\u001b[0m \u001b[1;33m=\u001b[0m \u001b[1;34mr'C:\\Users\\Acer\\Desktop\\Leaf-Disease-Detection-Using-Image-Processing-main\\Leaf-Disease-Detection-Using-Image-Processing-main'\u001b[0m\u001b[1;33m\u001b[0m\u001b[1;33m\u001b[0m\u001b[0m\n\u001b[0;32m      2\u001b[0m \u001b[0mds_path\u001b[0m \u001b[1;33m=\u001b[0m \u001b[0mmaindir\u001b[0m \u001b[1;33m+\u001b[0m \u001b[1;34m\"\\\\crowdai\"\u001b[0m\u001b[1;33m\u001b[0m\u001b[1;33m\u001b[0m\u001b[0m\n\u001b[1;32m----> 3\u001b[1;33m \u001b[0mimg_files\u001b[0m \u001b[1;33m=\u001b[0m \u001b[0mos\u001b[0m\u001b[1;33m.\u001b[0m\u001b[0mlistdir\u001b[0m\u001b[1;33m(\u001b[0m\u001b[0mds_path\u001b[0m\u001b[1;33m)\u001b[0m\u001b[1;33m\u001b[0m\u001b[1;33m\u001b[0m\u001b[0m\n\u001b[0m",
      "\u001b[1;31mFileNotFoundError\u001b[0m: [WinError 3] The system cannot find the path specified: 'C:\\\\Users\\\\Acer\\\\Desktop\\\\Leaf-Disease-Detection-Using-Image-Processing-main\\\\Leaf-Disease-Detection-Using-Image-Processing-main\\\\crowdai'"
     ]
    }
   ],
   "source": [
    "maindir = r'C:\\Users\\Acer\\Desktop\\Leaf-Disease-Detection-Using-Image-Processing-main\\Leaf-Disease-Detection-Using-Image-Processing-main'\n",
    "ds_path = maindir + \"\\\\crowdai\"\n",
    "img_files = os.listdir(ds_path)"
   ]
  },
  {
   "cell_type": "code",
   "execution_count": 6,
   "metadata": {},
   "outputs": [
    {
     "data": {
      "text/plain": [
       "'Pepper__bell___Bacterial_spot'"
      ]
     },
     "execution_count": 6,
     "metadata": {},
     "output_type": "execute_result"
    }
   ],
   "source": [
    "img_files[0]"
   ]
  },
  {
   "cell_type": "code",
   "execution_count": 7,
   "metadata": {},
   "outputs": [
    {
     "name": "stdout",
     "output_type": "stream",
     "text": [
      "34\n"
     ]
    }
   ],
   "source": [
    "breakpoints = [1000,1269,1270,1549,1550,1673,1674,2386,2387,2972,2973,3482,3483,3840,3841,4031,4032,4550,4551,4924,4925,5369,5370,5845,5846,6397,6398,6817,6818,6988,6989,9309,9310,9999]\n",
    "print(len(breakpoints))"
   ]
  },
  {
   "cell_type": "code",
   "execution_count": 8,
   "metadata": {},
   "outputs": [
    {
     "ename": "ValueError",
     "evalue": "invalid literal for int() with base 10: 'Pepper__bell___Bacterial_spot'",
     "output_type": "error",
     "traceback": [
      "\u001b[1;31m---------------------------------------------------------------------------\u001b[0m",
      "\u001b[1;31mValueError\u001b[0m                                Traceback (most recent call last)",
      "\u001b[1;32m~\\AppData\\Local\\Temp/ipykernel_14896/576840025.py\u001b[0m in \u001b[0;36m<module>\u001b[1;34m\u001b[0m\n\u001b[0;32m      1\u001b[0m \u001b[0mtarget_list\u001b[0m \u001b[1;33m=\u001b[0m \u001b[1;33m[\u001b[0m\u001b[1;33m]\u001b[0m\u001b[1;33m\u001b[0m\u001b[1;33m\u001b[0m\u001b[0m\n\u001b[0;32m      2\u001b[0m \u001b[1;32mfor\u001b[0m \u001b[0mfile\u001b[0m \u001b[1;32min\u001b[0m \u001b[0mimg_files\u001b[0m\u001b[1;33m:\u001b[0m\u001b[1;33m\u001b[0m\u001b[1;33m\u001b[0m\u001b[0m\n\u001b[1;32m----> 3\u001b[1;33m     \u001b[0mtarget_num\u001b[0m \u001b[1;33m=\u001b[0m \u001b[0mint\u001b[0m\u001b[1;33m(\u001b[0m\u001b[0mfile\u001b[0m\u001b[1;33m.\u001b[0m\u001b[0msplit\u001b[0m\u001b[1;33m(\u001b[0m\u001b[1;34m\".\"\u001b[0m\u001b[1;33m)\u001b[0m\u001b[1;33m[\u001b[0m\u001b[1;36m0\u001b[0m\u001b[1;33m]\u001b[0m\u001b[1;33m)\u001b[0m\u001b[1;33m\u001b[0m\u001b[1;33m\u001b[0m\u001b[0m\n\u001b[0m\u001b[0;32m      4\u001b[0m    \u001b[1;31m# print(target_num)\u001b[0m\u001b[1;33m\u001b[0m\u001b[1;33m\u001b[0m\u001b[0m\n\u001b[0;32m      5\u001b[0m     \u001b[0mflag\u001b[0m \u001b[1;33m=\u001b[0m \u001b[1;36m0\u001b[0m\u001b[1;33m\u001b[0m\u001b[1;33m\u001b[0m\u001b[0m\n",
      "\u001b[1;31mValueError\u001b[0m: invalid literal for int() with base 10: 'Pepper__bell___Bacterial_spot'"
     ]
    }
   ],
   "source": [
    "target_list = []\n",
    "for file in img_files:\n",
    "    target_num = int(file.split(\".\")[0])\n",
    "   # print(target_num)\n",
    "    flag = 0\n",
    "    i = 0 \n",
    "    for i in range(0,len(breakpoints),2):\n",
    "        if((target_num >= breakpoints[i]) and (target_num <= breakpoints[i+1])):\n",
    "            flag = 1\n",
    "            break\n",
    "    \n",
    "    if(flag==1):\n",
    "        target = int((i/2))\n",
    "        target_list.append(target)"
   ]
  },
  {
   "cell_type": "code",
   "execution_count": 35,
   "metadata": {},
   "outputs": [
    {
     "data": {
      "text/plain": [
       "array([], dtype=float64)"
      ]
     },
     "execution_count": 35,
     "metadata": {},
     "output_type": "execute_result"
    }
   ],
   "source": [
    "y = np.array(target_list)\n",
    "y"
   ]
  },
  {
   "cell_type": "code",
   "execution_count": 36,
   "metadata": {},
   "outputs": [],
   "source": [
    "\n",
    "X = dataset.iloc[:,1:]"
   ]
  },
  {
   "cell_type": "code",
   "execution_count": 37,
   "metadata": {},
   "outputs": [
    {
     "data": {
      "text/html": [
       "<div>\n",
       "<style scoped>\n",
       "    .dataframe tbody tr th:only-of-type {\n",
       "        vertical-align: middle;\n",
       "    }\n",
       "\n",
       "    .dataframe tbody tr th {\n",
       "        vertical-align: top;\n",
       "    }\n",
       "\n",
       "    .dataframe thead th {\n",
       "        text-align: right;\n",
       "    }\n",
       "</style>\n",
       "<table border=\"1\" class=\"dataframe\">\n",
       "  <thead>\n",
       "    <tr style=\"text-align: right;\">\n",
       "      <th></th>\n",
       "      <th>mean_r</th>\n",
       "      <th>mean_g</th>\n",
       "      <th>mean_b</th>\n",
       "      <th>stddev_r</th>\n",
       "      <th>stddev_g</th>\n",
       "      <th>stddev_b</th>\n",
       "      <th>contrast</th>\n",
       "      <th>correlation</th>\n",
       "      <th>inverse_difference_moments</th>\n",
       "      <th>entropy</th>\n",
       "    </tr>\n",
       "  </thead>\n",
       "  <tbody>\n",
       "    <tr>\n",
       "      <th>0</th>\n",
       "      <td>124.451584</td>\n",
       "      <td>125.620300</td>\n",
       "      <td>108.485748</td>\n",
       "      <td>50.388144</td>\n",
       "      <td>41.485965</td>\n",
       "      <td>53.374898</td>\n",
       "      <td>544.214069</td>\n",
       "      <td>0.862938</td>\n",
       "      <td>0.097321</td>\n",
       "      <td>13.205401</td>\n",
       "    </tr>\n",
       "    <tr>\n",
       "      <th>1</th>\n",
       "      <td>99.800812</td>\n",
       "      <td>106.241577</td>\n",
       "      <td>95.636383</td>\n",
       "      <td>53.178032</td>\n",
       "      <td>46.293921</td>\n",
       "      <td>56.707237</td>\n",
       "      <td>1024.899346</td>\n",
       "      <td>0.780989</td>\n",
       "      <td>0.100739</td>\n",
       "      <td>13.721206</td>\n",
       "    </tr>\n",
       "    <tr>\n",
       "      <th>2</th>\n",
       "      <td>128.854691</td>\n",
       "      <td>133.116470</td>\n",
       "      <td>125.494598</td>\n",
       "      <td>51.777342</td>\n",
       "      <td>43.455868</td>\n",
       "      <td>56.003065</td>\n",
       "      <td>668.621700</td>\n",
       "      <td>0.846056</td>\n",
       "      <td>0.098733</td>\n",
       "      <td>13.512516</td>\n",
       "    </tr>\n",
       "    <tr>\n",
       "      <th>3</th>\n",
       "      <td>118.155594</td>\n",
       "      <td>129.549210</td>\n",
       "      <td>96.848831</td>\n",
       "      <td>51.552275</td>\n",
       "      <td>47.672393</td>\n",
       "      <td>56.637736</td>\n",
       "      <td>1826.944441</td>\n",
       "      <td>0.590644</td>\n",
       "      <td>0.039873</td>\n",
       "      <td>14.459833</td>\n",
       "    </tr>\n",
       "    <tr>\n",
       "      <th>4</th>\n",
       "      <td>94.497757</td>\n",
       "      <td>103.165131</td>\n",
       "      <td>79.188477</td>\n",
       "      <td>58.576800</td>\n",
       "      <td>51.213358</td>\n",
       "      <td>59.374794</td>\n",
       "      <td>792.271595</td>\n",
       "      <td>0.860727</td>\n",
       "      <td>0.114316</td>\n",
       "      <td>13.517625</td>\n",
       "    </tr>\n",
       "  </tbody>\n",
       "</table>\n",
       "</div>"
      ],
      "text/plain": [
       "       mean_r      mean_g      mean_b   stddev_r   stddev_g   stddev_b  \\\n",
       "0  124.451584  125.620300  108.485748  50.388144  41.485965  53.374898   \n",
       "1   99.800812  106.241577   95.636383  53.178032  46.293921  56.707237   \n",
       "2  128.854691  133.116470  125.494598  51.777342  43.455868  56.003065   \n",
       "3  118.155594  129.549210   96.848831  51.552275  47.672393  56.637736   \n",
       "4   94.497757  103.165131   79.188477  58.576800  51.213358  59.374794   \n",
       "\n",
       "      contrast  correlation  inverse_difference_moments    entropy  \n",
       "0   544.214069     0.862938                    0.097321  13.205401  \n",
       "1  1024.899346     0.780989                    0.100739  13.721206  \n",
       "2   668.621700     0.846056                    0.098733  13.512516  \n",
       "3  1826.944441     0.590644                    0.039873  14.459833  \n",
       "4   792.271595     0.860727                    0.114316  13.517625  "
      ]
     },
     "execution_count": 37,
     "metadata": {},
     "output_type": "execute_result"
    }
   ],
   "source": [
    "X.head(5)"
   ]
  },
  {
   "cell_type": "code",
   "execution_count": 38,
   "metadata": {},
   "outputs": [
    {
     "data": {
      "text/plain": [
       "array([], dtype=float64)"
      ]
     },
     "execution_count": 38,
     "metadata": {},
     "output_type": "execute_result"
    }
   ],
   "source": [
    "y[0:5]"
   ]
  },
  {
   "cell_type": "code",
   "execution_count": 39,
   "metadata": {},
   "outputs": [],
   "source": [
    "#Train test split"
   ]
  },
  {
   "cell_type": "code",
   "execution_count": 40,
   "metadata": {},
   "outputs": [],
   "source": [
    "from sklearn.model_selection import train_test_split"
   ]
  },
  {
   "cell_type": "code",
   "execution_count": 41,
   "metadata": {},
   "outputs": [
    {
     "ename": "ValueError",
     "evalue": "Found input variables with inconsistent numbers of samples: [997, 0]",
     "output_type": "error",
     "traceback": [
      "\u001b[1;31m---------------------------------------------------------------------------\u001b[0m",
      "\u001b[1;31mValueError\u001b[0m                                Traceback (most recent call last)",
      "\u001b[1;32m~\\AppData\\Local\\Temp/ipykernel_16548/1615792495.py\u001b[0m in \u001b[0;36m<module>\u001b[1;34m\u001b[0m\n\u001b[1;32m----> 1\u001b[1;33m \u001b[0mX_train\u001b[0m\u001b[1;33m,\u001b[0m \u001b[0mX_test\u001b[0m\u001b[1;33m,\u001b[0m \u001b[0my_train\u001b[0m\u001b[1;33m,\u001b[0m \u001b[0my_test\u001b[0m \u001b[1;33m=\u001b[0m \u001b[0mtrain_test_split\u001b[0m\u001b[1;33m(\u001b[0m\u001b[0mX\u001b[0m\u001b[1;33m,\u001b[0m \u001b[0my\u001b[0m\u001b[1;33m,\u001b[0m \u001b[0mtest_size\u001b[0m\u001b[1;33m=\u001b[0m\u001b[1;36m0.3\u001b[0m\u001b[1;33m,\u001b[0m \u001b[0mrandom_state\u001b[0m \u001b[1;33m=\u001b[0m \u001b[1;36m142\u001b[0m\u001b[1;33m)\u001b[0m\u001b[1;33m\u001b[0m\u001b[1;33m\u001b[0m\u001b[0m\n\u001b[0m",
      "\u001b[1;32m~\\anaconda3\\lib\\site-packages\\sklearn\\model_selection\\_split.py\u001b[0m in \u001b[0;36mtrain_test_split\u001b[1;34m(test_size, train_size, random_state, shuffle, stratify, *arrays)\u001b[0m\n\u001b[0;32m   2170\u001b[0m         \u001b[1;32mraise\u001b[0m \u001b[0mValueError\u001b[0m\u001b[1;33m(\u001b[0m\u001b[1;34m\"At least one array required as input\"\u001b[0m\u001b[1;33m)\u001b[0m\u001b[1;33m\u001b[0m\u001b[1;33m\u001b[0m\u001b[0m\n\u001b[0;32m   2171\u001b[0m \u001b[1;33m\u001b[0m\u001b[0m\n\u001b[1;32m-> 2172\u001b[1;33m     \u001b[0marrays\u001b[0m \u001b[1;33m=\u001b[0m \u001b[0mindexable\u001b[0m\u001b[1;33m(\u001b[0m\u001b[1;33m*\u001b[0m\u001b[0marrays\u001b[0m\u001b[1;33m)\u001b[0m\u001b[1;33m\u001b[0m\u001b[1;33m\u001b[0m\u001b[0m\n\u001b[0m\u001b[0;32m   2173\u001b[0m \u001b[1;33m\u001b[0m\u001b[0m\n\u001b[0;32m   2174\u001b[0m     \u001b[0mn_samples\u001b[0m \u001b[1;33m=\u001b[0m \u001b[0m_num_samples\u001b[0m\u001b[1;33m(\u001b[0m\u001b[0marrays\u001b[0m\u001b[1;33m[\u001b[0m\u001b[1;36m0\u001b[0m\u001b[1;33m]\u001b[0m\u001b[1;33m)\u001b[0m\u001b[1;33m\u001b[0m\u001b[1;33m\u001b[0m\u001b[0m\n",
      "\u001b[1;32m~\\anaconda3\\lib\\site-packages\\sklearn\\utils\\validation.py\u001b[0m in \u001b[0;36mindexable\u001b[1;34m(*iterables)\u001b[0m\n\u001b[0;32m    354\u001b[0m     \"\"\"\n\u001b[0;32m    355\u001b[0m     \u001b[0mresult\u001b[0m \u001b[1;33m=\u001b[0m \u001b[1;33m[\u001b[0m\u001b[0m_make_indexable\u001b[0m\u001b[1;33m(\u001b[0m\u001b[0mX\u001b[0m\u001b[1;33m)\u001b[0m \u001b[1;32mfor\u001b[0m \u001b[0mX\u001b[0m \u001b[1;32min\u001b[0m \u001b[0miterables\u001b[0m\u001b[1;33m]\u001b[0m\u001b[1;33m\u001b[0m\u001b[1;33m\u001b[0m\u001b[0m\n\u001b[1;32m--> 356\u001b[1;33m     \u001b[0mcheck_consistent_length\u001b[0m\u001b[1;33m(\u001b[0m\u001b[1;33m*\u001b[0m\u001b[0mresult\u001b[0m\u001b[1;33m)\u001b[0m\u001b[1;33m\u001b[0m\u001b[1;33m\u001b[0m\u001b[0m\n\u001b[0m\u001b[0;32m    357\u001b[0m     \u001b[1;32mreturn\u001b[0m \u001b[0mresult\u001b[0m\u001b[1;33m\u001b[0m\u001b[1;33m\u001b[0m\u001b[0m\n\u001b[0;32m    358\u001b[0m \u001b[1;33m\u001b[0m\u001b[0m\n",
      "\u001b[1;32m~\\anaconda3\\lib\\site-packages\\sklearn\\utils\\validation.py\u001b[0m in \u001b[0;36mcheck_consistent_length\u001b[1;34m(*arrays)\u001b[0m\n\u001b[0;32m    317\u001b[0m     \u001b[0muniques\u001b[0m \u001b[1;33m=\u001b[0m \u001b[0mnp\u001b[0m\u001b[1;33m.\u001b[0m\u001b[0munique\u001b[0m\u001b[1;33m(\u001b[0m\u001b[0mlengths\u001b[0m\u001b[1;33m)\u001b[0m\u001b[1;33m\u001b[0m\u001b[1;33m\u001b[0m\u001b[0m\n\u001b[0;32m    318\u001b[0m     \u001b[1;32mif\u001b[0m \u001b[0mlen\u001b[0m\u001b[1;33m(\u001b[0m\u001b[0muniques\u001b[0m\u001b[1;33m)\u001b[0m \u001b[1;33m>\u001b[0m \u001b[1;36m1\u001b[0m\u001b[1;33m:\u001b[0m\u001b[1;33m\u001b[0m\u001b[1;33m\u001b[0m\u001b[0m\n\u001b[1;32m--> 319\u001b[1;33m         raise ValueError(\"Found input variables with inconsistent numbers of\"\n\u001b[0m\u001b[0;32m    320\u001b[0m                          \" samples: %r\" % [int(l) for l in lengths])\n\u001b[0;32m    321\u001b[0m \u001b[1;33m\u001b[0m\u001b[0m\n",
      "\u001b[1;31mValueError\u001b[0m: Found input variables with inconsistent numbers of samples: [997, 0]"
     ]
    }
   ],
   "source": [
    "X_train, X_test, y_train, y_test = train_test_split(X, y, test_size=0.3, random_state = 142)"
   ]
  },
  {
   "cell_type": "code",
   "execution_count": 19,
   "metadata": {},
   "outputs": [
    {
     "data": {
      "text/html": [
       "<div>\n",
       "<style scoped>\n",
       "    .dataframe tbody tr th:only-of-type {\n",
       "        vertical-align: middle;\n",
       "    }\n",
       "\n",
       "    .dataframe tbody tr th {\n",
       "        vertical-align: top;\n",
       "    }\n",
       "\n",
       "    .dataframe thead th {\n",
       "        text-align: right;\n",
       "    }\n",
       "</style>\n",
       "<table border=\"1\" class=\"dataframe\">\n",
       "  <thead>\n",
       "    <tr style=\"text-align: right;\">\n",
       "      <th></th>\n",
       "      <th>mean_r</th>\n",
       "      <th>mean_g</th>\n",
       "      <th>mean_b</th>\n",
       "      <th>stddev_r</th>\n",
       "      <th>stddev_g</th>\n",
       "      <th>stddev_b</th>\n",
       "      <th>contrast</th>\n",
       "      <th>correlation</th>\n",
       "      <th>inverse_difference_moments</th>\n",
       "      <th>entropy</th>\n",
       "    </tr>\n",
       "  </thead>\n",
       "  <tbody>\n",
       "    <tr>\n",
       "      <th>3964</th>\n",
       "      <td>110.072104</td>\n",
       "      <td>159.233719</td>\n",
       "      <td>131.961972</td>\n",
       "      <td>27.140586</td>\n",
       "      <td>24.466712</td>\n",
       "      <td>27.389126</td>\n",
       "      <td>95.133817</td>\n",
       "      <td>0.925400</td>\n",
       "      <td>0.178761</td>\n",
       "      <td>11.490641</td>\n",
       "    </tr>\n",
       "    <tr>\n",
       "      <th>1067</th>\n",
       "      <td>82.564043</td>\n",
       "      <td>98.890889</td>\n",
       "      <td>109.420928</td>\n",
       "      <td>39.298992</td>\n",
       "      <td>38.468545</td>\n",
       "      <td>51.228020</td>\n",
       "      <td>164.482505</td>\n",
       "      <td>0.947380</td>\n",
       "      <td>0.155684</td>\n",
       "      <td>12.454126</td>\n",
       "    </tr>\n",
       "    <tr>\n",
       "      <th>2401</th>\n",
       "      <td>115.825688</td>\n",
       "      <td>118.737737</td>\n",
       "      <td>94.857721</td>\n",
       "      <td>38.179354</td>\n",
       "      <td>36.353173</td>\n",
       "      <td>44.758595</td>\n",
       "      <td>57.467823</td>\n",
       "      <td>0.978724</td>\n",
       "      <td>0.289971</td>\n",
       "      <td>11.277982</td>\n",
       "    </tr>\n",
       "    <tr>\n",
       "      <th>4766</th>\n",
       "      <td>104.578959</td>\n",
       "      <td>118.873818</td>\n",
       "      <td>90.257840</td>\n",
       "      <td>68.741033</td>\n",
       "      <td>52.769674</td>\n",
       "      <td>68.411842</td>\n",
       "      <td>566.730354</td>\n",
       "      <td>0.917908</td>\n",
       "      <td>0.083414</td>\n",
       "      <td>13.676810</td>\n",
       "    </tr>\n",
       "    <tr>\n",
       "      <th>101</th>\n",
       "      <td>139.361927</td>\n",
       "      <td>145.180421</td>\n",
       "      <td>137.465901</td>\n",
       "      <td>65.475447</td>\n",
       "      <td>61.570231</td>\n",
       "      <td>69.279968</td>\n",
       "      <td>817.508787</td>\n",
       "      <td>0.893893</td>\n",
       "      <td>0.130472</td>\n",
       "      <td>13.343331</td>\n",
       "    </tr>\n",
       "  </tbody>\n",
       "</table>\n",
       "</div>"
      ],
      "text/plain": [
       "          mean_r      mean_g      mean_b   stddev_r   stddev_g   stddev_b  \\\n",
       "3964  110.072104  159.233719  131.961972  27.140586  24.466712  27.389126   \n",
       "1067   82.564043   98.890889  109.420928  39.298992  38.468545  51.228020   \n",
       "2401  115.825688  118.737737   94.857721  38.179354  36.353173  44.758595   \n",
       "4766  104.578959  118.873818   90.257840  68.741033  52.769674  68.411842   \n",
       "101   139.361927  145.180421  137.465901  65.475447  61.570231  69.279968   \n",
       "\n",
       "        contrast  correlation  inverse_difference_moments    entropy  \n",
       "3964   95.133817     0.925400                    0.178761  11.490641  \n",
       "1067  164.482505     0.947380                    0.155684  12.454126  \n",
       "2401   57.467823     0.978724                    0.289971  11.277982  \n",
       "4766  566.730354     0.917908                    0.083414  13.676810  \n",
       "101   817.508787     0.893893                    0.130472  13.343331  "
      ]
     },
     "execution_count": 19,
     "metadata": {},
     "output_type": "execute_result"
    }
   ],
   "source": [
    "X_train.head(5)"
   ]
  },
  {
   "cell_type": "code",
   "execution_count": 20,
   "metadata": {},
   "outputs": [
    {
     "data": {
      "text/plain": [
       "(6299, 10)"
      ]
     },
     "execution_count": 20,
     "metadata": {},
     "output_type": "execute_result"
    }
   ],
   "source": [
    "X_train.shape"
   ]
  },
  {
   "cell_type": "code",
   "execution_count": 21,
   "metadata": {},
   "outputs": [
    {
     "data": {
      "text/plain": [
       "array([10,  3,  5, 11,  0])"
      ]
     },
     "execution_count": 21,
     "metadata": {},
     "output_type": "execute_result"
    }
   ],
   "source": [
    "y_train[0:5]"
   ]
  },
  {
   "cell_type": "code",
   "execution_count": 22,
   "metadata": {},
   "outputs": [],
   "source": [
    "#Feature Scaling"
   ]
  },
  {
   "cell_type": "code",
   "execution_count": 23,
   "metadata": {},
   "outputs": [],
   "source": [
    "from sklearn.preprocessing import StandardScaler"
   ]
  },
  {
   "cell_type": "code",
   "execution_count": 24,
   "metadata": {},
   "outputs": [],
   "source": [
    "sc_X = StandardScaler()\n",
    "X_train = sc_X.fit_transform(X_train)\n",
    "X_test = sc_X.transform(X_test)"
   ]
  },
  {
   "cell_type": "code",
   "execution_count": 25,
   "metadata": {},
   "outputs": [
    {
     "data": {
      "text/plain": [
       "array([[-0.27135619,  1.72574766,  1.297164  , -1.25987687, -1.07737475,\n",
       "        -1.74538858, -0.81620459,  0.21267105, -0.11418883, -0.47311907],\n",
       "       [-1.58551432, -1.06029926,  0.44147284, -0.37957632,  0.01614473,\n",
       "         0.1912474 , -0.56039989,  0.57567253, -0.32973539,  0.25786502]])"
      ]
     },
     "execution_count": 25,
     "metadata": {},
     "output_type": "execute_result"
    }
   ],
   "source": [
    "X_train[0:2]"
   ]
  },
  {
   "cell_type": "code",
   "execution_count": 26,
   "metadata": {},
   "outputs": [
    {
     "data": {
      "text/plain": [
       "array([10,  3])"
      ]
     },
     "execution_count": 26,
     "metadata": {},
     "output_type": "execute_result"
    }
   ],
   "source": [
    "y_train[0:2]"
   ]
  },
  {
   "cell_type": "code",
   "execution_count": 27,
   "metadata": {},
   "outputs": [],
   "source": [
    "#Applying SVM classifier model"
   ]
  },
  {
   "cell_type": "code",
   "execution_count": 28,
   "metadata": {},
   "outputs": [],
   "source": [
    "from sklearn import svm"
   ]
  },
  {
   "cell_type": "code",
   "execution_count": 29,
   "metadata": {},
   "outputs": [
    {
     "data": {
      "text/plain": [
       "SVC(C=100.0, cache_size=200, class_weight=None, coef0=0.0,\n",
       "  decision_function_shape='ovr', degree=3, gamma=0.01, kernel='rbf',\n",
       "  max_iter=-1, probability=False, random_state=None, shrinking=True,\n",
       "  tol=0.001, verbose=False)"
      ]
     },
     "execution_count": 29,
     "metadata": {},
     "output_type": "execute_result"
    }
   ],
   "source": [
    "clf = svm.SVC(C=100.0, cache_size=200, class_weight=None, coef0=0.0,\n",
    "  decision_function_shape='ovr', degree=3, gamma=0.01, kernel='rbf',\n",
    "  max_iter=-1, probability=False, random_state=None, shrinking=True,\n",
    "  tol=0.001, verbose=False)\n",
    "clf.fit(X_train,y_train)"
   ]
  },
  {
   "cell_type": "code",
   "execution_count": 30,
   "metadata": {},
   "outputs": [],
   "source": [
    "y_pred = clf.predict(X_test)"
   ]
  },
  {
   "cell_type": "code",
   "execution_count": 31,
   "metadata": {},
   "outputs": [],
   "source": [
    "from sklearn import metrics"
   ]
  },
  {
   "cell_type": "code",
   "execution_count": 32,
   "metadata": {},
   "outputs": [
    {
     "data": {
      "text/plain": [
       "0.8314814814814815"
      ]
     },
     "execution_count": 32,
     "metadata": {},
     "output_type": "execute_result"
    }
   ],
   "source": [
    "metrics.accuracy_score(y_test, y_pred)"
   ]
  },
  {
   "cell_type": "code",
   "execution_count": 33,
   "metadata": {},
   "outputs": [],
   "source": [
    "from sklearn.model_selection import GridSearchCV\n"
   ]
  },
  {
   "cell_type": "code",
   "execution_count": 36,
   "metadata": {},
   "outputs": [],
   "source": [
    "parameters = [{'kernel': ['rbf'],\n",
    "               'gamma': [1e-4, 1e-3, 0.01, 0.1, 0.2, 0.5],\n",
    "               'C': [1, 10, 100, 1000]},\n",
    "              {'kernel': ['linear'], 'C': [1, 10, 100, 1000]}\n",
    "             ]"
   ]
  },
  {
   "cell_type": "code",
   "execution_count": 37,
   "metadata": {},
   "outputs": [
    {
     "data": {
      "text/plain": [
       "GridSearchCV(cv=5, error_score='raise',\n",
       "       estimator=SVC(C=1.0, cache_size=200, class_weight=None, coef0=0.0,\n",
       "  decision_function_shape='ovr', degree=3, gamma='auto', kernel='rbf',\n",
       "  max_iter=-1, probability=False, random_state=None, shrinking=True,\n",
       "  tol=0.001, verbose=False),\n",
       "       fit_params=None, iid=True, n_jobs=1,\n",
       "       param_grid=[{'kernel': ['rbf'], 'gamma': [0.0001, 0.001, 0.01, 0.1, 0.2, 0.5], 'C': [1, 10, 100, 1000]}, {'kernel': ['linear'], 'C': [1, 10, 100, 1000]}],\n",
       "       pre_dispatch='2*n_jobs', refit=True, return_train_score='warn',\n",
       "       scoring=None, verbose=0)"
      ]
     },
     "execution_count": 37,
     "metadata": {},
     "output_type": "execute_result"
    }
   ],
   "source": [
    "svm_clf = GridSearchCV(svm.SVC(decision_function_shape='ovr'), parameters, cv=5)\n",
    "svm_clf.fit(X_train, y_train)"
   ]
  },
  {
   "cell_type": "code",
   "execution_count": 38,
   "metadata": {},
   "outputs": [
    {
     "data": {
      "text/plain": [
       "{'C': 100, 'gamma': 0.1, 'kernel': 'rbf'}"
      ]
     },
     "execution_count": 38,
     "metadata": {},
     "output_type": "execute_result"
    }
   ],
   "source": [
    "svm_clf.best_params_"
   ]
  },
  {
   "cell_type": "code",
   "execution_count": null,
   "metadata": {},
   "outputs": [],
   "source": [
    "print(metrics.classification_report(y_test, y_pred))"
   ]
  },
  {
   "cell_type": "code",
   "execution_count": 46,
   "metadata": {},
   "outputs": [
    {
     "data": {
      "text/plain": [
       "3"
      ]
     },
     "execution_count": 46,
     "metadata": {},
     "output_type": "execute_result"
    }
   ],
   "source": [
    "int(int(clf.predict(X_train[0:1])))"
   ]
  },
  {
   "cell_type": "code",
   "execution_count": 39,
   "metadata": {},
   "outputs": [
    {
     "data": {
      "text/plain": [
       "SVC(C=100.0, cache_size=200, class_weight=None, coef0=0.0,\n",
       "  decision_function_shape='ovr', degree=3, gamma=0.1, kernel='rbf',\n",
       "  max_iter=-1, probability=False, random_state=None, shrinking=True,\n",
       "  tol=0.001, verbose=False)"
      ]
     },
     "execution_count": 39,
     "metadata": {},
     "output_type": "execute_result"
    }
   ],
   "source": [
    "clf = svm.SVC(C=100.0, cache_size=200, class_weight=None, coef0=0.0,\n",
    "  decision_function_shape='ovr', degree=3, gamma=0.1, kernel='rbf',\n",
    "  max_iter=-1, probability=False, random_state=None, shrinking=True,\n",
    "  tol=0.001, verbose=False)\n",
    "clf.fit(X_train,y_train)"
   ]
  },
  {
   "cell_type": "code",
   "execution_count": 40,
   "metadata": {},
   "outputs": [],
   "source": [
    "y_pred = clf.predict(X_test)"
   ]
  },
  {
   "cell_type": "code",
   "execution_count": 41,
   "metadata": {},
   "outputs": [
    {
     "data": {
      "text/plain": [
       "0.8688888888888889"
      ]
     },
     "execution_count": 41,
     "metadata": {},
     "output_type": "execute_result"
    }
   ],
   "source": [
    "metrics.accuracy_score(y_test, y_pred)"
   ]
  },
  {
   "cell_type": "code",
   "execution_count": null,
   "metadata": {},
   "outputs": [],
   "source": []
  }
 ],
 "metadata": {
  "kernelspec": {
   "display_name": "Python 3 (ipykernel)",
   "language": "python",
   "name": "python3"
  },
  "language_info": {
   "codemirror_mode": {
    "name": "ipython",
    "version": 3
   },
   "file_extension": ".py",
   "mimetype": "text/x-python",
   "name": "python",
   "nbconvert_exporter": "python",
   "pygments_lexer": "ipython3",
   "version": "3.9.7"
  }
 },
 "nbformat": 4,
 "nbformat_minor": 2
}
